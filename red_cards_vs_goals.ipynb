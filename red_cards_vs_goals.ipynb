{
 "cells": [
  {
   "cell_type": "markdown",
   "metadata": {},
   "source": [
    "# Football Analysis:\n",
    "\n",
    "# Do red cards seem to lead to more goals?"
   ]
  },
  {
   "cell_type": "code",
   "execution_count": 1,
   "metadata": {},
   "outputs": [],
   "source": [
    "# !pip install matplotlib\n",
    "# !pip install scikit-learn\n",
    "# !pip install jinja2\n",
    "# !pip install seaborn"
   ]
  },
  {
   "cell_type": "code",
   "execution_count": 2,
   "metadata": {},
   "outputs": [],
   "source": [
    "import pandas as pd\n",
    "import matplotlib.pyplot as plt\n",
    "import numpy as np\n",
    "import seaborn as sns"
   ]
  },
  {
   "cell_type": "markdown",
   "metadata": {},
   "source": [
    "## 1. What data are we working with?"
   ]
  },
  {
   "cell_type": "code",
   "execution_count": 3,
   "metadata": {},
   "outputs": [],
   "source": [
    "# read in our data\n",
    "df_g = pd.read_csv('data/games.csv')\n",
    "df_e = pd.read_csv('data/events.csv')"
   ]
  },
  {
   "cell_type": "code",
   "execution_count": 4,
   "metadata": {},
   "outputs": [
    {
     "data": {
      "text/html": [
       "<div>\n",
       "<style scoped>\n",
       "    .dataframe tbody tr th:only-of-type {\n",
       "        vertical-align: middle;\n",
       "    }\n",
       "\n",
       "    .dataframe tbody tr th {\n",
       "        vertical-align: top;\n",
       "    }\n",
       "\n",
       "    .dataframe thead th {\n",
       "        text-align: right;\n",
       "    }\n",
       "</style>\n",
       "<table border=\"1\" class=\"dataframe\">\n",
       "  <thead>\n",
       "    <tr style=\"text-align: right;\">\n",
       "      <th></th>\n",
       "      <th>game_id</th>\n",
       "      <th>minute</th>\n",
       "      <th>side</th>\n",
       "      <th>type</th>\n",
       "    </tr>\n",
       "  </thead>\n",
       "  <tbody>\n",
       "    <tr>\n",
       "      <th>0</th>\n",
       "      <td>1</td>\n",
       "      <td>69</td>\n",
       "      <td>home</td>\n",
       "      <td>red_card</td>\n",
       "    </tr>\n",
       "    <tr>\n",
       "      <th>4132</th>\n",
       "      <td>1</td>\n",
       "      <td>90</td>\n",
       "      <td>away</td>\n",
       "      <td>goal</td>\n",
       "    </tr>\n",
       "    <tr>\n",
       "      <th>4131</th>\n",
       "      <td>1</td>\n",
       "      <td>23</td>\n",
       "      <td>away</td>\n",
       "      <td>goal</td>\n",
       "    </tr>\n",
       "    <tr>\n",
       "      <th>4133</th>\n",
       "      <td>2</td>\n",
       "      <td>86</td>\n",
       "      <td>home</td>\n",
       "      <td>goal</td>\n",
       "    </tr>\n",
       "    <tr>\n",
       "      <th>4134</th>\n",
       "      <td>2</td>\n",
       "      <td>48</td>\n",
       "      <td>away</td>\n",
       "      <td>goal</td>\n",
       "    </tr>\n",
       "    <tr>\n",
       "      <th>...</th>\n",
       "      <td>...</td>\n",
       "      <td>...</td>\n",
       "      <td>...</td>\n",
       "      <td>...</td>\n",
       "    </tr>\n",
       "    <tr>\n",
       "      <th>54449</th>\n",
       "      <td>19293</td>\n",
       "      <td>6</td>\n",
       "      <td>away</td>\n",
       "      <td>goal</td>\n",
       "    </tr>\n",
       "    <tr>\n",
       "      <th>4130</th>\n",
       "      <td>19293</td>\n",
       "      <td>89</td>\n",
       "      <td>away</td>\n",
       "      <td>red_card</td>\n",
       "    </tr>\n",
       "    <tr>\n",
       "      <th>54447</th>\n",
       "      <td>19293</td>\n",
       "      <td>43</td>\n",
       "      <td>home</td>\n",
       "      <td>goal</td>\n",
       "    </tr>\n",
       "    <tr>\n",
       "      <th>54448</th>\n",
       "      <td>19293</td>\n",
       "      <td>90</td>\n",
       "      <td>home</td>\n",
       "      <td>goal</td>\n",
       "    </tr>\n",
       "    <tr>\n",
       "      <th>54450</th>\n",
       "      <td>19294</td>\n",
       "      <td>68</td>\n",
       "      <td>away</td>\n",
       "      <td>goal</td>\n",
       "    </tr>\n",
       "  </tbody>\n",
       "</table>\n",
       "<p>54451 rows × 4 columns</p>\n",
       "</div>"
      ],
      "text/plain": [
       "       game_id  minute  side      type\n",
       "0            1      69  home  red_card\n",
       "4132         1      90  away      goal\n",
       "4131         1      23  away      goal\n",
       "4133         2      86  home      goal\n",
       "4134         2      48  away      goal\n",
       "...        ...     ...   ...       ...\n",
       "54449    19293       6  away      goal\n",
       "4130     19293      89  away  red_card\n",
       "54447    19293      43  home      goal\n",
       "54448    19293      90  home      goal\n",
       "54450    19294      68  away      goal\n",
       "\n",
       "[54451 rows x 4 columns]"
      ]
     },
     "execution_count": 4,
     "metadata": {},
     "output_type": "execute_result"
    }
   ],
   "source": [
    "df_e.sort_values(by='game_id')"
   ]
  },
  {
   "cell_type": "code",
   "execution_count": 5,
   "metadata": {},
   "outputs": [
    {
     "name": "stdout",
     "output_type": "stream",
     "text": [
      "                                min         max\n",
      "competition                                    \n",
      "1. Bundesliga, Germany   2018-08-24  2023-05-27\n",
      "2. Bundesliga, Germany   2018-08-03  2023-05-28\n",
      "Championship, England    2018-08-03  2023-05-08\n",
      "Ligue 1, France          2018-08-10  2023-06-03\n",
      "Ligue 2, France          2018-07-27  2023-06-02\n",
      "Premier League, England  2018-08-10  2023-05-28\n",
      "Primera, Spain           2018-08-17  2023-06-04\n",
      "Segunda, Spain           2018-08-17  2023-05-28\n",
      "Serie A, Italy           2018-08-18  2023-06-04\n",
      "Serie B, Italy           2018-08-24  2023-05-19\n"
     ]
    }
   ],
   "source": [
    "# Get the range of dates for each competition\n",
    "date_range_per_competition = df_g.groupby('competition')['date'].agg(['min', 'max'])\n",
    "\n",
    "print(date_range_per_competition)"
   ]
  },
  {
   "cell_type": "code",
   "execution_count": 6,
   "metadata": {},
   "outputs": [
    {
     "name": "stdout",
     "output_type": "stream",
     "text": [
      "Matches in games.csv data set:  19294\n",
      "Goals in games.csv data set:  50356\n",
      "Goals in events.csv data set:  50320\n",
      "Red Cards in events.csv data set:  4131\n"
     ]
    }
   ],
   "source": [
    "print(\"Matches in games.csv data set: \",len(df_g))\n",
    "# Sum of home and away goals in df_g\n",
    "total_goals_df_g = df_g['home_goals'].sum() + df_g['away_goals'].sum()\n",
    "print(\"Goals in games.csv data set: \",total_goals_df_g)\n",
    "print(\"Goals in events.csv data set: \",len(df_e[df_e['type']=='goal']))\n",
    "print(\"Red Cards in events.csv data set: \",len(df_e[df_e['type']=='red_card']))"
   ]
  },
  {
   "cell_type": "markdown",
   "metadata": {},
   "source": [
    "## 2. Data Cleaning:\n",
    "\n",
    "### 2.a: Discrepancies between the two dataframes.\n",
    "There is a discrepancy in the data frames as you can see above. 36 more goals in the games.csv than in the events.csv.\n",
    "\n",
    "Since we are missing the goal times of these discrepancies, we don't have the full data to impute the missing values. There was one red card in the 26 games with missing information. We will exclude these from our analysis. This list should be reported to data collectors for investigation."
   ]
  },
  {
   "cell_type": "code",
   "execution_count": 7,
   "metadata": {},
   "outputs": [
    {
     "name": "stdout",
     "output_type": "stream",
     "text": [
      "There are 26 games with a differing number of goals\n"
     ]
    }
   ],
   "source": [
    "# Create a new dataframe with the total number of goals per game in df_g\n",
    "df_g_goals = df_g.groupby('game_id').apply(lambda row: row['home_goals'] + row['away_goals'], include_groups=False).reset_index(name='goals')\n",
    "\n",
    "# Create a new dataframe with the total number of 'goal' events per game in df_e\n",
    "df_e_goals = df_e[df_e['type'] == 'goal'].groupby('game_id').size().reset_index(name='goals')\n",
    "\n",
    "# Merge the two dataframes on 'game_id'\n",
    "df_goals = pd.merge(df_g_goals, df_e_goals, on='game_id', suffixes=('_df_g', '_df_e'), how='outer')\n",
    "\n",
    "#fill the empty rows with 0 as no goals were recorded for this\n",
    "df_goals['goals_df_e'] = df_goals['goals_df_e'].fillna(0)\n",
    "\n",
    "# Find the rows where the number of goals doesn't match\n",
    "discrepancies = df_goals[df_goals['goals_df_g'] != df_goals['goals_df_e']]\n",
    "\n",
    "print(\"There are\", len(discrepancies), \"games with a differing number of goals\")"
   ]
  },
  {
   "cell_type": "code",
   "execution_count": 8,
   "metadata": {},
   "outputs": [
    {
     "name": "stdout",
     "output_type": "stream",
     "text": [
      "+-----------+------------------------+---------------------+-----------------------+------------+--------------+--------------+\n",
      "|   game_id | home_team              | away_team           | competition           | date       |   home_goals |   away_goals |\n",
      "|-----------+------------------------+---------------------+-----------------------+------------+--------------+--------------|\n",
      "|       321 | Cosenza                | Hellas Verona       | Serie B, Italy        | 2018-09-01 |            0 |            3 |\n",
      "|      2181 | Albacete               | Reus Deportiu       | Segunda, Spain        | 2019-01-27 |            1 |            0 |\n",
      "|      2304 | Reus Deportiu          | Elche               | Segunda, Spain        | 2019-02-03 |            0 |            1 |\n",
      "|      2383 | Gimnastic de Tarragona | Reus Deportiu       | Segunda, Spain        | 2019-02-09 |            1 |            0 |\n",
      "|      2512 | Reus Deportiu          | Almería             | Segunda, Spain        | 2019-02-17 |            0 |            1 |\n",
      "|      2589 | Granada                | Reus Deportiu       | Segunda, Spain        | 2019-02-24 |            1 |            0 |\n",
      "|      2707 | Reus Deportiu          | Tenerife            | Segunda, Spain        | 2019-03-03 |            0 |            1 |\n",
      "|      2808 | Lugo                   | Reus Deportiu       | Segunda, Spain        | 2019-03-10 |            1 |            0 |\n",
      "|      2915 | Reus Deportiu          | Deportivo La Coruña | Segunda, Spain        | 2019-03-17 |            0 |            1 |\n",
      "|      2957 | Extremadura            | Reus Deportiu       | Segunda, Spain        | 2019-03-24 |            1 |            0 |\n",
      "|      3037 | Reus Deportiu          | Cádiz               | Segunda, Spain        | 2019-03-31 |            0 |            1 |\n",
      "|      3176 | Mallorca               | Reus Deportiu       | Segunda, Spain        | 2019-04-07 |            1 |            0 |\n",
      "|      3293 | Reus Deportiu          | Real Oviedo         | Segunda, Spain        | 2019-04-14 |            0 |            1 |\n",
      "|      3391 | Real Zaragoza          | Reus Deportiu       | Segunda, Spain        | 2019-04-21 |            1 |            0 |\n",
      "|      3471 | Bolton Wanderers       | Brentford           | Championship, England | 2019-04-27 |            0 |            1 |\n",
      "|      3505 | Reus Deportiu          | Alcorcón            | Segunda, Spain        | 2019-04-28 |            0 |            1 |\n",
      "|      3615 | Cordoba                | Reus Deportiu       | Segunda, Spain        | 2019-05-05 |            1 |            0 |\n",
      "|      3711 | Osasuna                | Reus Deportiu       | Segunda, Spain        | 2019-05-12 |            1 |            0 |\n",
      "|      3797 | Reus Deportiu          | Málaga              | Segunda, Spain        | 2019-05-19 |            0 |            1 |\n",
      "|      3838 | Numancia               | Reus Deportiu       | Segunda, Spain        | 2019-05-26 |            1 |            0 |\n",
      "|      3849 | Reus Deportiu          | Sporting Gijón      | Segunda, Spain        | 2019-06-02 |            0 |            1 |\n",
      "|      3859 | CF Rayo Majadahonda    | Reus Deportiu       | Segunda, Spain        | 2019-06-08 |            1 |            0 |\n",
      "|      7700 | Hellas Verona          | Roma                | Serie A, Italy        | 2020-09-19 |            3 |            0 |\n",
      "|      7876 | Alcorcón               | Real Zaragoza       | Segunda, Spain        | 2020-10-03 |            0 |            3 |\n",
      "|      8270 | Salernitana            | AC Reggiana 1919    | Serie B, Italy        | 2020-10-31 |            3 |            0 |\n",
      "|      9111 | Niort                  | Valenciennes        | Ligue 2, France       | 2020-12-22 |            0 |            3 |\n",
      "+-----------+------------------------+---------------------+-----------------------+------------+--------------+--------------+\n"
     ]
    }
   ],
   "source": [
    "# Filter the rows in df_g where 'game_id' is in the list of game ids with discrepancies\n",
    "wrong_scores_df_g = df_g[df_g['game_id'].isin(discrepancies['game_id'])]\n",
    "\n",
    "# print(wrong_scores_df_g)\n",
    "\n",
    "from tabulate import tabulate\n",
    "\n",
    "# Print the DataFrame using tabulate\n",
    "print(tabulate(wrong_scores_df_g, headers='keys', tablefmt='psql', showindex=False))\n"
   ]
  },
  {
   "cell_type": "code",
   "execution_count": 9,
   "metadata": {},
   "outputs": [
    {
     "name": "stdout",
     "output_type": "stream",
     "text": [
      "      game_id  minute  side      type\n",
      "1747     7876      63  away  red_card\n"
     ]
    }
   ],
   "source": [
    "# Filter the rows in df_e where 'game_id' is in the list of game ids with discrepancies\n",
    "wrong_scores_df_e = df_e[df_e['game_id'].isin(discrepancies['game_id'])]\n",
    "\n",
    "print(wrong_scores_df_e)"
   ]
  },
  {
   "cell_type": "code",
   "execution_count": 10,
   "metadata": {},
   "outputs": [],
   "source": [
    "df_g_clean = df_g[~df_g['game_id'].isin(discrepancies['game_id'])]\n",
    "df_e_clean = df_e[~df_e['game_id'].isin(discrepancies['game_id'])]"
   ]
  },
  {
   "cell_type": "markdown",
   "metadata": {},
   "source": [
    "### 2.b: Missing values - None."
   ]
  },
  {
   "cell_type": "code",
   "execution_count": 11,
   "metadata": {},
   "outputs": [
    {
     "name": "stdout",
     "output_type": "stream",
     "text": [
      "game_id        0\n",
      "home_team      0\n",
      "away_team      0\n",
      "competition    0\n",
      "date           0\n",
      "home_goals     0\n",
      "away_goals     0\n",
      "dtype: int64\n",
      "game_id    0\n",
      "minute     0\n",
      "side       0\n",
      "type       0\n",
      "dtype: int64\n"
     ]
    }
   ],
   "source": [
    "print(df_g_clean.isnull().sum())\n",
    "print(df_e_clean.isnull().sum())"
   ]
  },
  {
   "cell_type": "markdown",
   "metadata": {},
   "source": [
    "### 2.c: Duplicate Rows \n",
    "\n",
    "There are 160 duplicate rows in the events.csv, as games that had 2 or more events in injury time (beyond 45 or 90 minutes) were stored as 45 or 90 in the events.csv file. These duplicates simply mean two or more events occurred in the same time period.\n",
    "\n",
    "However there are 3 instances of mid-game duplicates (at 32, 55 and 84 minutes). In these cases, there were two red cards at the same time. (These games can be found in duplicates_in_df_g). Interestingly, two of these double red cards happened on the same day in April, 2022."
   ]
  },
  {
   "cell_type": "code",
   "execution_count": 12,
   "metadata": {},
   "outputs": [
    {
     "name": "stdout",
     "output_type": "stream",
     "text": [
      "Duplicate rows in games.csv: 0\n",
      "Duplicate rows in events.csv: 160\n"
     ]
    }
   ],
   "source": [
    "print('Duplicate rows in games.csv:', df_g_clean.duplicated().sum())\n",
    "print('Duplicate rows in events.csv:', df_e_clean.duplicated().sum())"
   ]
  },
  {
   "cell_type": "code",
   "execution_count": 13,
   "metadata": {},
   "outputs": [
    {
     "name": "stdout",
     "output_type": "stream",
     "text": [
      "List of duplicated events:\n",
      "      game_id  minute  side  type\n",
      "4735      243      90  home  goal\n",
      "4736      243      90  home  goal\n",
      "5701      603      90  home  goal\n",
      "5700      603      90  home  goal\n",
      "5704      605      90  away  goal\n",
      "Minutes with two or more events:\n",
      "[90 45 32 55 84]\n"
     ]
    }
   ],
   "source": [
    "# Get both original and duplicated rows based on 'game_id'\n",
    "duplicates = df_e_clean[df_e_clean.duplicated(keep=False)].sort_values(by='game_id')\n",
    "\n",
    "print('List of duplicated events:')\n",
    "print(duplicates.head())\n",
    "\n",
    "print('Minutes with two or more events:')\n",
    "print(duplicates.minute.unique())"
   ]
  },
  {
   "cell_type": "code",
   "execution_count": 14,
   "metadata": {},
   "outputs": [
    {
     "name": "stdout",
     "output_type": "stream",
     "text": [
      "      game_id  minute  side      type\n",
      "1350     6157      32  away  red_card\n",
      "1351     6157      32  away  red_card\n",
      "3159    14807      55  home  red_card\n",
      "3158    14807      55  home  red_card\n",
      "3161    14817      84  away  red_card\n",
      "3160    14817      84  away  red_card\n"
     ]
    }
   ],
   "source": [
    "# Filter the rows in duplicates where 'minute' is 32, 55, or 84\n",
    "duplicates_filtered = duplicates[duplicates['minute'].isin([32, 55, 84])]\n",
    "\n",
    "# Filter the rows in df_g_clean where 'game_id' is in the 'game_id' column of duplicates_filtered\n",
    "duplicates_in_df_g = df_g_clean[df_g_clean['game_id'].isin(duplicates_filtered['game_id'])]\n",
    "print(duplicates_filtered)"
   ]
  },
  {
   "cell_type": "markdown",
   "metadata": {},
   "source": [
    "### 2.d Outliers:\n",
    "\n",
    "The number of goals in each game per team is standard for football, with mostly low scores between [0,3] and occasional high scores up to 9."
   ]
  },
  {
   "cell_type": "code",
   "execution_count": 15,
   "metadata": {},
   "outputs": [
    {
     "data": {
      "image/png": "[encoded data removed]",
      "text/plain": [
       "<Figure size 1000x400 with 2 Axes>"
      ]
     },
     "metadata": {},
     "output_type": "display_data"
    }
   ],
   "source": [
    "# Plot a bar plot for 'home_goals'\n",
    "plt.figure(figsize=(10, 4))\n",
    "plt.subplot(1, 2, 1)\n",
    "df_g['home_goals'].value_counts().sort_index().plot(kind='bar')\n",
    "plt.title('Distribution of Home Goals')\n",
    "plt.xlabel('Home Goals')\n",
    "plt.ylabel('Frequency')\n",
    "\n",
    "# Plot a bar plot for 'away_goals'\n",
    "plt.subplot(1, 2, 2)\n",
    "df_g['away_goals'].value_counts().sort_index().plot(kind='bar')\n",
    "plt.title('Distribution of Away Goals')\n",
    "plt.xlabel('Away Goals')\n",
    "plt.ylabel('Frequency')\n",
    "\n",
    "plt.tight_layout()\n",
    "plt.show()\n"
   ]
  },
  {
   "cell_type": "markdown",
   "metadata": {},
   "source": [
    "### 2.e Merge Data"
   ]
  },
  {
   "cell_type": "code",
   "execution_count": 16,
   "metadata": {},
   "outputs": [],
   "source": [
    "# Left merge to create df with all games, and their events (even when none occurred)\n",
    "df = pd.merge(df_g_clean, df_e_clean, on='game_id', how='left')"
   ]
  },
  {
   "cell_type": "markdown",
   "metadata": {},
   "source": [
    "## 3. Do Red Cards seem to lead to more goals?\n",
    "\n",
    "### 3.a Simple Correlation:\n",
    "\n",
    "A simple correlation of goals and red cards gives a very weak negatived correlation. \n",
    "\n",
    "The correlation plot shows that many combinations of red cards and goals can occur, although interestingly there has never been a game with neither a goal or a red card in these leagues in the last 5 years. \n",
    "\n",
    "The density plot below, however, shows that 0 red cards and low scoring games are much more common and account for the vast majority of our data.\n",
    "\n",
    "But of course, we need to account for when the red card occured in the game. We need to account for proportionality."
   ]
  },
  {
   "cell_type": "code",
   "execution_count": 17,
   "metadata": {},
   "outputs": [
    {
     "name": "stdout",
     "output_type": "stream",
     "text": [
      "Correlation of goals to red cards -0.04279847057843651\n"
     ]
    }
   ],
   "source": [
    "# Add a new column for the total number of goals in a game\n",
    "df['total_goals'] = df['home_goals'] + df['away_goals']\n",
    "\n",
    "# Add a new column for whether the event is a red card\n",
    "df['is_red_card'] = df['type'].apply(lambda x: 1 if x == 'red_card' else 0)\n",
    "\n",
    "# Calculate the total number of red cards per game\n",
    "df['red_cards'] = df.groupby('game_id')['is_red_card'].transform('sum')\n",
    "\n",
    "# Sort the DataFrame so events are in order\n",
    "df = df.sort_values(['game_id', 'minute'])\n",
    "\n",
    "# Calculate the correlation\n",
    "correlation = df['total_goals'].corr(df['red_cards'])\n",
    "print(\"Correlation of goals to red cards\",correlation)"
   ]
  },
  {
   "cell_type": "code",
   "execution_count": 18,
   "metadata": {},
   "outputs": [
    {
     "data": {
      "image/png": "[encoded data removed]",
      "text/plain": [
       "<Figure size 640x480 with 2 Axes>"
      ]
     },
     "metadata": {},
     "output_type": "display_data"
    }
   ],
   "source": [
    "plt.hist2d(df['total_goals'], df['red_cards'], bins=[13, 7], cmap='Blues')\n",
    "cb = plt.colorbar()\n",
    "cb.set_label('Counts in Bin')\n",
    "plt.title('Density Plot of Number of Goals and Red Cards')\n",
    "plt.xlabel('Number of Goals')\n",
    "plt.ylabel('Number of Red Cards')\n",
    "plt.show()"
   ]
  },
  {
   "cell_type": "code",
   "execution_count": 19,
   "metadata": {},
   "outputs": [
    {
     "name": "stdout",
     "output_type": "stream",
     "text": [
      "+-------------+------+------+------+-------+------+------+------+------+-----+-----+------+------+\n",
      "|   red_cards |    0 |    1 |    2 |     3 |    4 |    5 |    6 |    7 |   8 |   9 |   10 |   11 |\n",
      "|-------------+------+------+------+-------+------+------+------+------+-----+-----+------+------|\n",
      "|           5 |    0 |    6 |    0 |     0 |    0 |   10 |    0 |    0 |   0 |   0 |    0 |    0 |\n",
      "|           4 |    0 |    5 |    0 |    21 |   16 |    0 |   10 |    0 |   0 |   0 |    0 |    0 |\n",
      "|           3 |   15 |   16 |   55 |    90 |   14 |   32 |   27 |    0 |  22 |  12 |    0 |    0 |\n",
      "|           2 |   52 |  264 |  424 |   450 |  384 |  175 |  200 |   72 |   0 |  11 |    0 |    0 |\n",
      "|           1 |  235 | 1148 | 2391 |  2700 | 2155 | 1302 |  728 |  336 |  72 |  10 |   11 |    0 |\n",
      "|           0 | 1258 | 2885 | 7904 | 10197 | 8888 | 5895 | 3000 | 1463 | 552 | 153 |   20 |   22 |\n",
      "+-------------+------+------+------+-------+------+------+------+------+-----+-----+------+------+\n"
     ]
    }
   ],
   "source": [
    "from tabulate import tabulate\n",
    "\n",
    "# Create a pivot table with 'red_cards' as the rows, 'total_goals' as the columns, and the number of games as the entries\n",
    "pivot_table = df.pivot_table(index='red_cards', columns='total_goals', aggfunc='size', fill_value=0)\n",
    "\n",
    "# Sort the index and columns of the pivot table in descending order\n",
    "pivot_table.sort_index(axis=0, ascending=False, inplace=True)\n",
    "pivot_table.sort_index(axis=1, ascending=True, inplace=True)\n",
    "\n",
    "# Print the pivot table using tabulate\n",
    "print(tabulate(pivot_table, headers='keys', tablefmt='psql'))\n"
   ]
  },
  {
   "cell_type": "code",
   "execution_count": 20,
   "metadata": {},
   "outputs": [],
   "source": [
    "# Get the unique game_ids where a red card occurred\n",
    "games_with_red_cards = df[df['type'] == 'red_card']['game_id'].unique()\n",
    "\n",
    "# Create a new DataFrame where there are no red cards\n",
    "df_no_red_cards = df[~df['game_id'].isin(games_with_red_cards)]\n",
    "\n",
    "# Create a new DataFrame where there are only red card games\n",
    "df_red_cards = df[df['game_id'].isin(games_with_red_cards)]"
   ]
  },
  {
   "cell_type": "code",
   "execution_count": 21,
   "metadata": {},
   "outputs": [
    {
     "name": "stdout",
     "output_type": "stream",
     "text": [
      "Average goals per game without red cards:  2.611125270804129\n",
      "Average goals per game with red cards:  2.6135982092893117\n"
     ]
    }
   ],
   "source": [
    "average_goals_no_red_cards = df_no_red_cards.groupby('game_id')['total_goals'].first().mean()\n",
    "average_goals_red_cards = df_red_cards.groupby('game_id')['total_goals'].first().mean()\n",
    "\n",
    "print(\"Average goals per game without red cards: \", average_goals_no_red_cards)\n",
    "print(\"Average goals per game with red cards: \", average_goals_red_cards)"
   ]
  },
  {
   "cell_type": "code",
   "execution_count": 22,
   "metadata": {},
   "outputs": [
    {
     "data": {
      "text/html": [
       "<div>\n",
       "<style scoped>\n",
       "    .dataframe tbody tr th:only-of-type {\n",
       "        vertical-align: middle;\n",
       "    }\n",
       "\n",
       "    .dataframe tbody tr th {\n",
       "        vertical-align: top;\n",
       "    }\n",
       "\n",
       "    .dataframe thead th {\n",
       "        text-align: right;\n",
       "    }\n",
       "</style>\n",
       "<table border=\"1\" class=\"dataframe\">\n",
       "  <thead>\n",
       "    <tr style=\"text-align: right;\">\n",
       "      <th></th>\n",
       "      <th>With Red Cards</th>\n",
       "      <th>Without Red Cards</th>\n",
       "    </tr>\n",
       "    <tr>\n",
       "      <th>competition</th>\n",
       "      <th></th>\n",
       "      <th></th>\n",
       "    </tr>\n",
       "  </thead>\n",
       "  <tbody>\n",
       "    <tr>\n",
       "      <th>1. Bundesliga, Germany</th>\n",
       "      <td>3.25</td>\n",
       "      <td>3.13</td>\n",
       "    </tr>\n",
       "    <tr>\n",
       "      <th>2. Bundesliga, Germany</th>\n",
       "      <td>2.84</td>\n",
       "      <td>2.95</td>\n",
       "    </tr>\n",
       "    <tr>\n",
       "      <th>Championship, England</th>\n",
       "      <td>2.59</td>\n",
       "      <td>2.50</td>\n",
       "    </tr>\n",
       "    <tr>\n",
       "      <th>Ligue 1, France</th>\n",
       "      <td>2.73</td>\n",
       "      <td>2.69</td>\n",
       "    </tr>\n",
       "    <tr>\n",
       "      <th>Ligue 2, France</th>\n",
       "      <td>2.34</td>\n",
       "      <td>2.29</td>\n",
       "    </tr>\n",
       "    <tr>\n",
       "      <th>Premier League, England</th>\n",
       "      <td>2.83</td>\n",
       "      <td>2.78</td>\n",
       "    </tr>\n",
       "    <tr>\n",
       "      <th>Primera, Spain</th>\n",
       "      <td>2.66</td>\n",
       "      <td>2.48</td>\n",
       "    </tr>\n",
       "    <tr>\n",
       "      <th>Segunda, Spain</th>\n",
       "      <td>2.20</td>\n",
       "      <td>2.21</td>\n",
       "    </tr>\n",
       "    <tr>\n",
       "      <th>Serie A, Italy</th>\n",
       "      <td>2.86</td>\n",
       "      <td>2.84</td>\n",
       "    </tr>\n",
       "    <tr>\n",
       "      <th>Serie B, Italy</th>\n",
       "      <td>2.56</td>\n",
       "      <td>2.43</td>\n",
       "    </tr>\n",
       "  </tbody>\n",
       "</table>\n",
       "</div>"
      ],
      "text/plain": [
       "                         With Red Cards  Without Red Cards\n",
       "competition                                               \n",
       "1. Bundesliga, Germany             3.25               3.13\n",
       "2. Bundesliga, Germany             2.84               2.95\n",
       "Championship, England              2.59               2.50\n",
       "Ligue 1, France                    2.73               2.69\n",
       "Ligue 2, France                    2.34               2.29\n",
       "Premier League, England            2.83               2.78\n",
       "Primera, Spain                     2.66               2.48\n",
       "Segunda, Spain                     2.20               2.21\n",
       "Serie A, Italy                     2.86               2.84\n",
       "Serie B, Italy                     2.56               2.43"
      ]
     },
     "execution_count": 22,
     "metadata": {},
     "output_type": "execute_result"
    }
   ],
   "source": [
    "# For games with red cards\n",
    "unique_goals_per_game_red = df_red_cards.groupby(['game_id', 'competition'])['total_goals'].first()\n",
    "mean_total_goals_red = unique_goals_per_game_red.groupby('competition').mean()\n",
    "\n",
    "# For games without red cards\n",
    "unique_goals_per_game_no_red = df_no_red_cards.groupby(['game_id', 'competition'])['total_goals'].first()\n",
    "mean_total_goals_no_red = unique_goals_per_game_no_red.groupby('competition').mean()\n",
    "\n",
    "# create dataframe with all information\n",
    "mean_goals_df = pd.DataFrame({\n",
    "    'With Red Cards': mean_total_goals_red,\n",
    "    'Without Red Cards': mean_total_goals_no_red\n",
    "})\n",
    "mean_goals_df.round(2)"
   ]
  },
  {
   "cell_type": "code",
   "execution_count": 23,
   "metadata": {},
   "outputs": [
    {
     "data": {
      "text/plain": [
       "'Primera, Spain'"
      ]
     },
     "execution_count": 23,
     "metadata": {},
     "output_type": "execute_result"
    }
   ],
   "source": [
    "# Calculate the absolute difference between the two columns\n",
    "mean_goals_df['Difference'] = abs(mean_goals_df['With Red Cards'] - mean_goals_df['Without Red Cards'])\n",
    "\n",
    "# Find the competition with the biggest difference\n",
    "biggest_difference_competition = mean_goals_df['Difference'].idxmax()\n",
    "biggest_difference_competition"
   ]
  },
  {
   "cell_type": "code",
   "execution_count": 24,
   "metadata": {},
   "outputs": [
    {
     "name": "stderr",
     "output_type": "stream",
     "text": [
      "/var/folders/m4/yvlz4y6d61zctf_c0kjjh05w0000gn/T/ipykernel_87721/377613023.py:9: DeprecationWarning: DataFrameGroupBy.apply operated on the grouping columns. This behavior is deprecated, and in a future version of pandas the grouping columns will be excluded from the operation. Either pass `include_groups=False` to exclude the groupings or explicitly select the grouping columns after groupby to silence this warning.\n",
      "  result = df_red_cards.groupby('game_id').apply(calculate_goals).reset_index()\n"
     ]
    }
   ],
   "source": [
    "# Function to calculate goals before and after first red\n",
    "def calculate_goals(df_group):\n",
    "    red_card_minute = df_group[df_group['type'] == 'red_card']['minute'].min()\n",
    "    goals_before_first_red = df_group[(df_group['type'] == 'goal') & (df_group['minute'] < red_card_minute)].shape[0]\n",
    "    goals_after_first_red = df_group[(df_group['type'] == 'goal') & (df_group['minute'] >= red_card_minute)].shape[0]\n",
    "    return pd.Series({'red_card_minute': red_card_minute, 'goals_before_first_red': goals_before_first_red, 'goals_after_first_red': goals_after_first_red})\n",
    "\n",
    "# Apply the function to each group\n",
    "result = df_red_cards.groupby('game_id').apply(calculate_goals).reset_index()\n",
    "\n",
    "# Merge the result back to the original dataframe\n",
    "df_red_cards = pd.merge(df, result, on='game_id')"
   ]
  },
  {
   "cell_type": "code",
   "execution_count": 25,
   "metadata": {},
   "outputs": [
    {
     "name": "stdout",
     "output_type": "stream",
     "text": [
      "Mean goals before first red card: 1.6102406267487408\n",
      "Mean goals after first red card: 1.0033575825405707\n"
     ]
    }
   ],
   "source": [
    "# Filter to include only the first row of each game_id\n",
    "first_rows = df_red_cards.drop_duplicates('game_id')\n",
    "\n",
    "# Calculate the mean of goals_before_first_red and goals_after_first_red based on the first row of each game_id\n",
    "mean_goals_before_first_red = first_rows['goals_before_first_red'].mean()\n",
    "mean_goals_after_first_red = first_rows['goals_after_first_red'].mean()\n",
    "\n",
    "print(\"Mean goals before first red card:\", mean_goals_before_first_red)\n",
    "print(\"Mean goals after first red card:\", mean_goals_after_first_red)"
   ]
  },
  {
   "cell_type": "markdown",
   "metadata": {},
   "source": [
    "### 3.b: Time Series Analysis\n",
    "\n",
    "% of games with red cards have a goal scored after the red card."
   ]
  },
  {
   "cell_type": "code",
   "execution_count": 26,
   "metadata": {},
   "outputs": [
    {
     "name": "stdout",
     "output_type": "stream",
     "text": [
      "Proportion of games featuring red cards that had a goal scored AFTER this red card: 51.73%\n"
     ]
    }
   ],
   "source": [
    "# Sort the DataFrame (again to be safe...)\n",
    "df = df.sort_values(['game_id', 'minute'])\n",
    "\n",
    "# Identify the games and minutes where a red card was given\n",
    "red_card_games = df[df['type'] == 'red_card'][['game_id', 'minute']].rename(columns={'minute': 'red_card_minute'})\n",
    "\n",
    "# Merge this information with the original DataFrame\n",
    "df = df.merge(red_card_games, on='game_id', how='left')\n",
    "\n",
    "# Create a binary column for whether a goal was scored after a red card\n",
    "df['goal_after_red_card'] = ((df['type'] == 'goal') & (df['minute'] > df['red_card_minute'])).astype(int)\n",
    "\n",
    "# Identify the games where at least one goal was scored after a red card\n",
    "games_with_goal_after_red_card = df[df['goal_after_red_card'] == 1]['game_id'].nunique()\n",
    "\n",
    "# Calculate the proportion of games where a goal was scored after a red card\n",
    "proportion = games_with_goal_after_red_card / df['game_id'][df['type'] == 'red_card'].nunique()\n",
    "\n",
    "# Convert the proportion to a percentage and round it to 2 decimal places\n",
    "percentage = round(proportion * 100, 2)\n",
    "\n",
    "print('Proportion of games featuring red cards that had a goal scored AFTER this red card:', f'{percentage}%')\n"
   ]
  },
  {
   "cell_type": "code",
   "execution_count": 27,
   "metadata": {},
   "outputs": [
    {
     "name": "stdout",
     "output_type": "stream",
     "text": [
      "Proportion of games in which red carded team scores following a red card: 22.75%\n",
      "Proportion of games in which other team scores following a red card: 45.36%\n"
     ]
    }
   ],
   "source": [
    "# Sort the DataFrame (again to be safe...)\n",
    "df = df.sort_values(['game_id', 'minute'])\n",
    "\n",
    "# Identify the games and minutes where a red card was given\n",
    "red_card_games = df[df['type'] == 'red_card'][['game_id', 'side']].rename(columns={'side': 'red_card_team'})\n",
    "\n",
    "# Merge this information with the original DataFrame\n",
    "df = df.merge(red_card_games, on=['game_id'], how='left')\n",
    "\n",
    "\n",
    "# Create a binary column for whether a goal was scored after a red card\n",
    "df['goal_after_red_card'] = ((df['type'] == 'goal') & (df['minute'] > df['red_card_minute'])).astype(int)\n",
    "\n",
    "# Identify the games where at least one goal was scored after a red card\n",
    "games_with_goal_after_red_card = df[df['goal_after_red_card'] == 1]\n",
    "\n",
    "# Calculate the total number of games where a red card was given\n",
    "total_games_with_red_card = df['game_id'][df['type'] == 'red_card'].nunique()\n",
    "\n",
    "# Filter the DataFrame to only include goals scored by the team that received the red card\n",
    "goals_by_same_team = games_with_goal_after_red_card[games_with_goal_after_red_card['red_card_team'] == games_with_goal_after_red_card['side']]\n",
    "\n",
    "# Calculate the number of games where a goal was scored by the team that received the red card\n",
    "num_games_same_team_scored = goals_by_same_team['game_id'].nunique()\n",
    "\n",
    "# Calculate the proportion of games where a goal was scored by the team that received the red card\n",
    "same_team_scored = num_games_same_team_scored / total_games_with_red_card\n",
    "\n",
    "# Filter the DataFrame to only include goals scored by the other team\n",
    "goals_by_other_team = games_with_goal_after_red_card[games_with_goal_after_red_card['red_card_team'] != games_with_goal_after_red_card['side']]\n",
    "\n",
    "# Calculate the number of games where a goal was scored by the other team\n",
    "num_games_other_team_scored = goals_by_other_team['game_id'].nunique()\n",
    "\n",
    "# Calculate the proportion of games where a goal was scored by the other team\n",
    "other_team_scored = num_games_other_team_scored / total_games_with_red_card\n",
    "\n",
    "# Convert the proportions to percentages and round them to 2 decimal places\n",
    "same_team_scored_percentage = round(same_team_scored * 100, 2)\n",
    "other_team_scored_percentage = round(other_team_scored * 100, 2)\n",
    "\n",
    "print(f'Proportion of games in which red carded team scores following a red card: {same_team_scored_percentage}%')\n",
    "print(f'Proportion of games in which other team scores following a red card: {other_team_scored_percentage}%')\n"
   ]
  },
  {
   "cell_type": "code",
   "execution_count": 28,
   "metadata": {},
   "outputs": [
    {
     "data": {
      "image/png": "[encoded data removed]",
      "text/plain": [
       "<Figure size 1800x600 with 2 Axes>"
      ]
     },
     "metadata": {},
     "output_type": "display_data"
    }
   ],
   "source": [
    "import matplotlib.pyplot as plt\n",
    "import numpy as np\n",
    "\n",
    "# Increase the size of the text in the plots\n",
    "plt.rcParams['font.size'] = 18\n",
    "\n",
    "# Calculate the total number of games\n",
    "total_games = df['game_id'].nunique()\n",
    "\n",
    "# Calculate the number of red cards given at each minute\n",
    "red_cards_per_minute = df[df['type'] == 'red_card']['minute'].value_counts().sort_index()\n",
    "\n",
    "# Calculate the red card rate at each minute\n",
    "red_card_rate = red_cards_per_minute / total_games\n",
    "\n",
    "# Calculate the cumulative number of red cards given up to each minute\n",
    "cumulative_red_cards = np.cumsum(red_cards_per_minute)\n",
    "\n",
    "# Calculate the cumulative probability of a red card\n",
    "cumulative_probability = cumulative_red_cards / total_games\n",
    "\n",
    "# Create subplots\n",
    "fig, axs = plt.subplots(1, 2, figsize=(18, 6))\n",
    "\n",
    "# Plot the red card rate\n",
    "axs[0].plot(red_card_rate.index, red_card_rate.values)\n",
    "axs[0].set_title('Red Card Rate at Each Minute of the Match')\n",
    "axs[0].set_xlabel('Minute')\n",
    "axs[0].set_ylabel('Red Card Rate')\n",
    "axs[0].set_xticks(range(0, 91, 10))\n",
    "axs[0].grid(True)\n",
    "\n",
    "# Plot the cumulative probability\n",
    "axs[1].plot(cumulative_probability.index, cumulative_probability.values)\n",
    "axs[1].set_title('Cumulative Probability of a Red Card in a Match')\n",
    "axs[1].set_xlabel('Minute')\n",
    "axs[1].set_ylabel('Cumulative Probability')\n",
    "axs[1].set_xticks(range(0, 91, 10))\n",
    "axs[1].grid(True)\n",
    "\n",
    "# Display the plots\n",
    "plt.tight_layout()\n",
    "plt.show()\n"
   ]
  },
  {
   "cell_type": "code",
   "execution_count": 29,
   "metadata": {},
   "outputs": [
    {
     "data": {
      "image/png": "[encoded data removed]",
      "text/plain": [
       "<Figure size 640x480 with 1 Axes>"
      ]
     },
     "metadata": {},
     "output_type": "display_data"
    }
   ],
   "source": [
    "import matplotlib.pyplot as plt\n",
    "\n",
    "# Identify unique game_ids with and without red cards\n",
    "games_with_red_cards = df[df['type'] == 'red_card']['game_id'].unique()\n",
    "games_without_red_cards = np.setdiff1d(df['game_id'].unique(), games_with_red_cards)\n",
    "\n",
    "# Initialize lists to store the results\n",
    "likelihoods_with_red_card = []\n",
    "likelihoods_without_red_card = []\n",
    "\n",
    "# Calculate the likelihood for each minute\n",
    "for minute in range(1, 91):\n",
    "    # Number of games with at least one goal after the current minute\n",
    "    num_games_with_goal_with_red_card = df[(df['game_id'].isin(games_with_red_cards)) & (df['minute'] > minute) & (df['type'] == 'goal')]['game_id'].nunique()\n",
    "    num_games_with_goal_without_red_card = df[(df['game_id'].isin(games_without_red_cards)) & (df['minute'] > minute) & (df['type'] == 'goal')]['game_id'].nunique()\n",
    "\n",
    "    # Total number of games with and without a red card\n",
    "    num_games_with_red_card = len(games_with_red_cards)\n",
    "    num_games_without_red_card = len(games_without_red_cards)\n",
    "\n",
    "    # Likelihood of a goal after the current minute\n",
    "    likelihood_with_red_card = num_games_with_goal_with_red_card / num_games_with_red_card\n",
    "    likelihood_without_red_card = num_games_with_goal_without_red_card / num_games_without_red_card\n",
    "\n",
    "    likelihoods_with_red_card.append(likelihood_with_red_card)\n",
    "    likelihoods_without_red_card.append(likelihood_without_red_card)\n",
    "\n",
    "# Create the plot\n",
    "fig, ax = plt.subplots()\n",
    "\n",
    "# Plot the likelihoods\n",
    "ax.plot(range(1, 91), likelihoods_with_red_card, label='Games with Red Cards')\n",
    "ax.plot(range(1, 91), likelihoods_without_red_card, label='Games without Red Cards')\n",
    "\n",
    "# Set the title and labels\n",
    "ax.set_title('Likelihood of a Goal After Each Minute')\n",
    "ax.set_xlabel('Minute')\n",
    "ax.set_ylabel('Likelihood of a Goal')\n",
    "\n",
    "# Set the x-axis ticks and grid\n",
    "ax.set_xticks(range(0, 91, 10))\n",
    "ax.grid(True)\n",
    "\n",
    "# Add the legend\n",
    "ax.legend()\n",
    "\n",
    "# Show the plot\n",
    "plt.show()\n"
   ]
  },
  {
   "cell_type": "markdown",
   "metadata": {},
   "source": [
    "## 3.c: Rate of Scoring"
   ]
  },
  {
   "cell_type": "code",
   "execution_count": 30,
   "metadata": {},
   "outputs": [
    {
     "name": "stdout",
     "output_type": "stream",
     "text": [
      "Mean goals per 10 minutes across all games: 0.2902\n"
     ]
    }
   ],
   "source": [
    "# Sort the DataFrame\n",
    "df = df.sort_values(['game_id', 'minute'])\n",
    "\n",
    "# delete duplicate rows of games, as we only need info from one row\n",
    "first_rows_df = df.drop_duplicates('game_id')\n",
    "\n",
    "print('Mean goals per 10 minutes across all games:', round((first_rows_df.total_goals / 90).mean()*10, 4))"
   ]
  },
  {
   "cell_type": "markdown",
   "metadata": {},
   "source": [
    "### Games with red cards:"
   ]
  },
  {
   "cell_type": "code",
   "execution_count": 31,
   "metadata": {},
   "outputs": [],
   "source": [
    "# Sort the DataFrame\n",
    "df_red_cards = df_red_cards.sort_values(['game_id', 'minute'])\n",
    "\n",
    "# delete duplicate rows of games, as we only need info from one row\n",
    "first_rows_reds = df_red_cards.drop_duplicates('game_id')"
   ]
  },
  {
   "cell_type": "code",
   "execution_count": 32,
   "metadata": {},
   "outputs": [
    {
     "name": "stdout",
     "output_type": "stream",
     "text": [
      "Average goals per 10 minutes before red cards awarded: 0.243\n",
      "Average goals per 10 minutes after red cards awarded: 0.762\n"
     ]
    }
   ],
   "source": [
    "goals_per_minute_before_red = first_rows_reds.goals_before_first_red / first_rows_reds.red_card_minute\n",
    "goals_per_minute_after_red = first_rows_reds.goals_after_first_red / (91 - first_rows_reds.red_card_minute)\n",
    "\n",
    "print(\"Average goals per 10 minutes before red cards awarded:\", round(goals_per_minute_before_red.mean()*10, 3))\n",
    "print(\"Average goals per 10 minutes after red cards awarded:\", round(goals_per_minute_after_red.mean()*10, 3))"
   ]
  },
  {
   "cell_type": "markdown",
   "metadata": {},
   "source": [
    "### Games without Red Cards:"
   ]
  },
  {
   "cell_type": "code",
   "execution_count": 33,
   "metadata": {},
   "outputs": [
    {
     "name": "stdout",
     "output_type": "stream",
     "text": [
      "Mean goals per 10 minutes in games without red cards: 0.2901\n"
     ]
    }
   ],
   "source": [
    "# Check rate for non-red games\n",
    "\n",
    "# Sort the DataFrame\n",
    "df_no_red_cards = df_no_red_cards.sort_values(['game_id', 'minute'])\n",
    "\n",
    "# delete duplicate rows of games, as we only need info from one row\n",
    "first_rows_no_reds = df_no_red_cards.drop_duplicates('game_id')\n",
    "\n",
    "print('Mean goals per 10 minutes in games without red cards:', round((first_rows_no_reds.total_goals / 90).mean()*10, 4))"
   ]
  },
  {
   "cell_type": "markdown",
   "metadata": {},
   "source": [
    "## Split by competition:"
   ]
  },
  {
   "cell_type": "code",
   "execution_count": 34,
   "metadata": {},
   "outputs": [
    {
     "name": "stdout",
     "output_type": "stream",
     "text": [
      "Mean goals per 10 minutes in 1. Bundesliga, Germany games without red cards: 0.3492\n",
      "Mean goals per 10 minutes in 2. Bundesliga, Germany games without red cards: 0.3258\n",
      "Mean goals per 10 minutes in Championship, England games without red cards: 0.279\n",
      "Mean goals per 10 minutes in Ligue 1, France games without red cards: 0.2997\n",
      "Mean goals per 10 minutes in Ligue 2, France games without red cards: 0.2561\n",
      "Mean goals per 10 minutes in Premier League, England games without red cards: 0.3091\n",
      "Mean goals per 10 minutes in Primera, Spain games without red cards: 0.2798\n",
      "Mean goals per 10 minutes in Segunda, Spain games without red cards: 0.2449\n",
      "Mean goals per 10 minutes in Serie A, Italy games without red cards: 0.3157\n",
      "Mean goals per 10 minutes in Serie B, Italy games without red cards: 0.2737\n"
     ]
    }
   ],
   "source": [
    "# Group the data by 'competition' and calculate the mean goals per 90 minutes\n",
    "mean_goals_per_90 = (first_rows_df.groupby('competition')['total_goals'].sum() / (90 * first_rows_df.groupby('competition').size())) * 10\n",
    "\n",
    "# Print the result\n",
    "for competition, mean_goals in mean_goals_per_90.items():\n",
    "    print(f'Mean goals per 10 minutes in {competition} games without red cards:', round(mean_goals, 4))\n",
    "\n",
    "# same as goals per game divided by 9"
   ]
  },
  {
   "cell_type": "code",
   "execution_count": 35,
   "metadata": {},
   "outputs": [
    {
     "name": "stderr",
     "output_type": "stream",
     "text": [
      "/var/folders/m4/yvlz4y6d61zctf_c0kjjh05w0000gn/T/ipykernel_87721/2476130835.py:11: DeprecationWarning: DataFrameGroupBy.apply operated on the grouping columns. This behavior is deprecated, and in a future version of pandas the grouping columns will be excluded from the operation. Either pass `include_groups=False` to exclude the groupings or explicitly select the grouping columns after groupby to silence this warning.\n",
      "  average_goals = first_rows_reds.groupby('competition').apply(calculate_average_goals)\n"
     ]
    },
    {
     "data": {
      "text/html": [
       "<div>\n",
       "<style scoped>\n",
       "    .dataframe tbody tr th:only-of-type {\n",
       "        vertical-align: middle;\n",
       "    }\n",
       "\n",
       "    .dataframe tbody tr th {\n",
       "        vertical-align: top;\n",
       "    }\n",
       "\n",
       "    .dataframe thead th {\n",
       "        text-align: right;\n",
       "    }\n",
       "</style>\n",
       "<table border=\"1\" class=\"dataframe\">\n",
       "  <thead>\n",
       "    <tr style=\"text-align: right;\">\n",
       "      <th></th>\n",
       "      <th>competition</th>\n",
       "      <th>average_goals_before_red</th>\n",
       "      <th>average_goals_after_red</th>\n",
       "    </tr>\n",
       "  </thead>\n",
       "  <tbody>\n",
       "    <tr>\n",
       "      <th>0</th>\n",
       "      <td>1. Bundesliga, Germany</td>\n",
       "      <td>0.30</td>\n",
       "      <td>0.76</td>\n",
       "    </tr>\n",
       "    <tr>\n",
       "      <th>1</th>\n",
       "      <td>2. Bundesliga, Germany</td>\n",
       "      <td>0.26</td>\n",
       "      <td>0.96</td>\n",
       "    </tr>\n",
       "    <tr>\n",
       "      <th>2</th>\n",
       "      <td>Championship, England</td>\n",
       "      <td>0.24</td>\n",
       "      <td>0.75</td>\n",
       "    </tr>\n",
       "    <tr>\n",
       "      <th>3</th>\n",
       "      <td>Ligue 1, France</td>\n",
       "      <td>0.25</td>\n",
       "      <td>0.63</td>\n",
       "    </tr>\n",
       "    <tr>\n",
       "      <th>4</th>\n",
       "      <td>Ligue 2, France</td>\n",
       "      <td>0.21</td>\n",
       "      <td>0.55</td>\n",
       "    </tr>\n",
       "    <tr>\n",
       "      <th>5</th>\n",
       "      <td>Premier League, England</td>\n",
       "      <td>0.27</td>\n",
       "      <td>0.59</td>\n",
       "    </tr>\n",
       "    <tr>\n",
       "      <th>6</th>\n",
       "      <td>Primera, Spain</td>\n",
       "      <td>0.26</td>\n",
       "      <td>0.71</td>\n",
       "    </tr>\n",
       "    <tr>\n",
       "      <th>7</th>\n",
       "      <td>Segunda, Spain</td>\n",
       "      <td>0.20</td>\n",
       "      <td>0.72</td>\n",
       "    </tr>\n",
       "    <tr>\n",
       "      <th>8</th>\n",
       "      <td>Serie A, Italy</td>\n",
       "      <td>0.28</td>\n",
       "      <td>1.06</td>\n",
       "    </tr>\n",
       "    <tr>\n",
       "      <th>9</th>\n",
       "      <td>Serie B, Italy</td>\n",
       "      <td>0.23</td>\n",
       "      <td>0.89</td>\n",
       "    </tr>\n",
       "  </tbody>\n",
       "</table>\n",
       "</div>"
      ],
      "text/plain": [
       "               competition  average_goals_before_red  average_goals_after_red\n",
       "0   1. Bundesliga, Germany                      0.30                     0.76\n",
       "1   2. Bundesliga, Germany                      0.26                     0.96\n",
       "2    Championship, England                      0.24                     0.75\n",
       "3          Ligue 1, France                      0.25                     0.63\n",
       "4          Ligue 2, France                      0.21                     0.55\n",
       "5  Premier League, England                      0.27                     0.59\n",
       "6           Primera, Spain                      0.26                     0.71\n",
       "7           Segunda, Spain                      0.20                     0.72\n",
       "8           Serie A, Italy                      0.28                     1.06\n",
       "9           Serie B, Italy                      0.23                     0.89"
      ]
     },
     "execution_count": 35,
     "metadata": {},
     "output_type": "execute_result"
    }
   ],
   "source": [
    "# Define a function to calculate average goals per 10 minutes before and after red card\n",
    "def calculate_average_goals(group):\n",
    "    goals_per_minute_before_red = group['goals_before_first_red'] / group['red_card_minute']\n",
    "    goals_per_minute_after_red = group['goals_after_first_red'] / (91 - group['red_card_minute'])\n",
    "    return pd.Series({\n",
    "        'average_goals_before_red': round(goals_per_minute_before_red.mean() * 10, 2),\n",
    "        'average_goals_after_red': round(goals_per_minute_after_red.mean() * 10, 2)\n",
    "    })\n",
    "\n",
    "# Apply the function to each competition\n",
    "average_goals = first_rows_reds.groupby('competition').apply(calculate_average_goals)\n",
    "\n",
    "# Reset the index to turn 'competition' into a column\n",
    "average_goals = average_goals.reset_index()\n",
    "\n",
    "# Display the DataFrame\n",
    "average_goals\n"
   ]
  },
  {
   "cell_type": "code",
   "execution_count": 36,
   "metadata": {},
   "outputs": [
    {
     "data": {
      "text/html": [
       "<div>\n",
       "<style scoped>\n",
       "    .dataframe tbody tr th:only-of-type {\n",
       "        vertical-align: middle;\n",
       "    }\n",
       "\n",
       "    .dataframe tbody tr th {\n",
       "        vertical-align: top;\n",
       "    }\n",
       "\n",
       "    .dataframe thead th {\n",
       "        text-align: right;\n",
       "    }\n",
       "</style>\n",
       "<table border=\"1\" class=\"dataframe\">\n",
       "  <thead>\n",
       "    <tr style=\"text-align: right;\">\n",
       "      <th></th>\n",
       "      <th>competition</th>\n",
       "      <th>average_goals_before_red</th>\n",
       "      <th>average_goals_after_red</th>\n",
       "      <th>difference</th>\n",
       "    </tr>\n",
       "  </thead>\n",
       "  <tbody>\n",
       "    <tr>\n",
       "      <th>0</th>\n",
       "      <td>1. Bundesliga, Germany</td>\n",
       "      <td>0.30</td>\n",
       "      <td>0.76</td>\n",
       "      <td>0.46</td>\n",
       "    </tr>\n",
       "    <tr>\n",
       "      <th>1</th>\n",
       "      <td>2. Bundesliga, Germany</td>\n",
       "      <td>0.26</td>\n",
       "      <td>0.96</td>\n",
       "      <td>0.70</td>\n",
       "    </tr>\n",
       "    <tr>\n",
       "      <th>2</th>\n",
       "      <td>Championship, England</td>\n",
       "      <td>0.24</td>\n",
       "      <td>0.75</td>\n",
       "      <td>0.51</td>\n",
       "    </tr>\n",
       "    <tr>\n",
       "      <th>3</th>\n",
       "      <td>Ligue 1, France</td>\n",
       "      <td>0.25</td>\n",
       "      <td>0.63</td>\n",
       "      <td>0.38</td>\n",
       "    </tr>\n",
       "    <tr>\n",
       "      <th>4</th>\n",
       "      <td>Ligue 2, France</td>\n",
       "      <td>0.21</td>\n",
       "      <td>0.55</td>\n",
       "      <td>0.34</td>\n",
       "    </tr>\n",
       "    <tr>\n",
       "      <th>5</th>\n",
       "      <td>Premier League, England</td>\n",
       "      <td>0.27</td>\n",
       "      <td>0.59</td>\n",
       "      <td>0.32</td>\n",
       "    </tr>\n",
       "    <tr>\n",
       "      <th>6</th>\n",
       "      <td>Primera, Spain</td>\n",
       "      <td>0.26</td>\n",
       "      <td>0.71</td>\n",
       "      <td>0.45</td>\n",
       "    </tr>\n",
       "    <tr>\n",
       "      <th>7</th>\n",
       "      <td>Segunda, Spain</td>\n",
       "      <td>0.20</td>\n",
       "      <td>0.72</td>\n",
       "      <td>0.52</td>\n",
       "    </tr>\n",
       "    <tr>\n",
       "      <th>8</th>\n",
       "      <td>Serie A, Italy</td>\n",
       "      <td>0.28</td>\n",
       "      <td>1.06</td>\n",
       "      <td>0.78</td>\n",
       "    </tr>\n",
       "    <tr>\n",
       "      <th>9</th>\n",
       "      <td>Serie B, Italy</td>\n",
       "      <td>0.23</td>\n",
       "      <td>0.89</td>\n",
       "      <td>0.66</td>\n",
       "    </tr>\n",
       "  </tbody>\n",
       "</table>\n",
       "</div>"
      ],
      "text/plain": [
       "               competition  average_goals_before_red  average_goals_after_red  \\\n",
       "0   1. Bundesliga, Germany                      0.30                     0.76   \n",
       "1   2. Bundesliga, Germany                      0.26                     0.96   \n",
       "2    Championship, England                      0.24                     0.75   \n",
       "3          Ligue 1, France                      0.25                     0.63   \n",
       "4          Ligue 2, France                      0.21                     0.55   \n",
       "5  Premier League, England                      0.27                     0.59   \n",
       "6           Primera, Spain                      0.26                     0.71   \n",
       "7           Segunda, Spain                      0.20                     0.72   \n",
       "8           Serie A, Italy                      0.28                     1.06   \n",
       "9           Serie B, Italy                      0.23                     0.89   \n",
       "\n",
       "   difference  \n",
       "0        0.46  \n",
       "1        0.70  \n",
       "2        0.51  \n",
       "3        0.38  \n",
       "4        0.34  \n",
       "5        0.32  \n",
       "6        0.45  \n",
       "7        0.52  \n",
       "8        0.78  \n",
       "9        0.66  "
      ]
     },
     "execution_count": 36,
     "metadata": {},
     "output_type": "execute_result"
    }
   ],
   "source": [
    "# Calculate the difference\n",
    "average_goals['difference'] = average_goals['average_goals_after_red'] - average_goals['average_goals_before_red']\n",
    "\n",
    "# Display the DataFrame\n",
    "average_goals"
   ]
  },
  {
   "cell_type": "code",
   "execution_count": 37,
   "metadata": {},
   "outputs": [
    {
     "data": {
      "text/html": [
       "<div>\n",
       "<style scoped>\n",
       "    .dataframe tbody tr th:only-of-type {\n",
       "        vertical-align: middle;\n",
       "    }\n",
       "\n",
       "    .dataframe tbody tr th {\n",
       "        vertical-align: top;\n",
       "    }\n",
       "\n",
       "    .dataframe thead th {\n",
       "        text-align: right;\n",
       "    }\n",
       "</style>\n",
       "<table border=\"1\" class=\"dataframe\">\n",
       "  <thead>\n",
       "    <tr style=\"text-align: right;\">\n",
       "      <th></th>\n",
       "      <th>competition</th>\n",
       "      <th>Average Minute of Red Cards</th>\n",
       "    </tr>\n",
       "  </thead>\n",
       "  <tbody>\n",
       "    <tr>\n",
       "      <th>0</th>\n",
       "      <td>1. Bundesliga, Germany</td>\n",
       "      <td>66.0</td>\n",
       "    </tr>\n",
       "    <tr>\n",
       "      <th>1</th>\n",
       "      <td>2. Bundesliga, Germany</td>\n",
       "      <td>68.0</td>\n",
       "    </tr>\n",
       "    <tr>\n",
       "      <th>2</th>\n",
       "      <td>Championship, England</td>\n",
       "      <td>72.0</td>\n",
       "    </tr>\n",
       "    <tr>\n",
       "      <th>3</th>\n",
       "      <td>Ligue 1, France</td>\n",
       "      <td>74.0</td>\n",
       "    </tr>\n",
       "    <tr>\n",
       "      <th>4</th>\n",
       "      <td>Ligue 2, France</td>\n",
       "      <td>63.0</td>\n",
       "    </tr>\n",
       "    <tr>\n",
       "      <th>5</th>\n",
       "      <td>Premier League, England</td>\n",
       "      <td>60.0</td>\n",
       "    </tr>\n",
       "    <tr>\n",
       "      <th>6</th>\n",
       "      <td>Primera, Spain</td>\n",
       "      <td>72.0</td>\n",
       "    </tr>\n",
       "    <tr>\n",
       "      <th>7</th>\n",
       "      <td>Segunda, Spain</td>\n",
       "      <td>68.0</td>\n",
       "    </tr>\n",
       "    <tr>\n",
       "      <th>8</th>\n",
       "      <td>Serie A, Italy</td>\n",
       "      <td>75.0</td>\n",
       "    </tr>\n",
       "    <tr>\n",
       "      <th>9</th>\n",
       "      <td>Serie B, Italy</td>\n",
       "      <td>68.0</td>\n",
       "    </tr>\n",
       "  </tbody>\n",
       "</table>\n",
       "</div>"
      ],
      "text/plain": [
       "               competition  Average Minute of Red Cards\n",
       "0   1. Bundesliga, Germany                         66.0\n",
       "1   2. Bundesliga, Germany                         68.0\n",
       "2    Championship, England                         72.0\n",
       "3          Ligue 1, France                         74.0\n",
       "4          Ligue 2, France                         63.0\n",
       "5  Premier League, England                         60.0\n",
       "6           Primera, Spain                         72.0\n",
       "7           Segunda, Spain                         68.0\n",
       "8           Serie A, Italy                         75.0\n",
       "9           Serie B, Italy                         68.0"
      ]
     },
     "execution_count": 37,
     "metadata": {},
     "output_type": "execute_result"
    }
   ],
   "source": [
    "# Filter rows where 'type' is 'red_card'\n",
    "reds = df[df['type'] == 'red_card']\n",
    "\n",
    "# Group the data by 'competition' and calculate the mean minute of red cards\n",
    "average_minute = round(reds.groupby('competition')['minute'].mean(), 0)\n",
    "\n",
    "# Convert the Series to a DataFrame and reset the index\n",
    "average_minute = average_minute.reset_index()\n",
    "\n",
    "# Rename the columns\n",
    "average_minute.columns = ['competition', 'Average Minute of Red Cards']\n",
    "\n",
    "# Display the DataFrame\n",
    "average_minute"
   ]
  },
  {
   "cell_type": "code",
   "execution_count": 38,
   "metadata": {},
   "outputs": [
    {
     "data": {
      "text/html": [
       "<div>\n",
       "<style scoped>\n",
       "    .dataframe tbody tr th:only-of-type {\n",
       "        vertical-align: middle;\n",
       "    }\n",
       "\n",
       "    .dataframe tbody tr th {\n",
       "        vertical-align: top;\n",
       "    }\n",
       "\n",
       "    .dataframe thead th {\n",
       "        text-align: right;\n",
       "    }\n",
       "</style>\n",
       "<table border=\"1\" class=\"dataframe\">\n",
       "  <thead>\n",
       "    <tr style=\"text-align: right;\">\n",
       "      <th></th>\n",
       "      <th>competition</th>\n",
       "      <th>average_goals_before_red</th>\n",
       "      <th>average_goals_after_red</th>\n",
       "      <th>difference</th>\n",
       "      <th>Average Minute of Red Cards</th>\n",
       "    </tr>\n",
       "  </thead>\n",
       "  <tbody>\n",
       "    <tr>\n",
       "      <th>0</th>\n",
       "      <td>1. Bundesliga, Germany</td>\n",
       "      <td>0.30</td>\n",
       "      <td>0.76</td>\n",
       "      <td>0.46</td>\n",
       "      <td>66.0</td>\n",
       "    </tr>\n",
       "    <tr>\n",
       "      <th>1</th>\n",
       "      <td>2. Bundesliga, Germany</td>\n",
       "      <td>0.26</td>\n",
       "      <td>0.96</td>\n",
       "      <td>0.70</td>\n",
       "      <td>68.0</td>\n",
       "    </tr>\n",
       "    <tr>\n",
       "      <th>2</th>\n",
       "      <td>Championship, England</td>\n",
       "      <td>0.24</td>\n",
       "      <td>0.75</td>\n",
       "      <td>0.51</td>\n",
       "      <td>72.0</td>\n",
       "    </tr>\n",
       "    <tr>\n",
       "      <th>3</th>\n",
       "      <td>Ligue 1, France</td>\n",
       "      <td>0.25</td>\n",
       "      <td>0.63</td>\n",
       "      <td>0.38</td>\n",
       "      <td>74.0</td>\n",
       "    </tr>\n",
       "    <tr>\n",
       "      <th>4</th>\n",
       "      <td>Ligue 2, France</td>\n",
       "      <td>0.21</td>\n",
       "      <td>0.55</td>\n",
       "      <td>0.34</td>\n",
       "      <td>63.0</td>\n",
       "    </tr>\n",
       "    <tr>\n",
       "      <th>5</th>\n",
       "      <td>Premier League, England</td>\n",
       "      <td>0.27</td>\n",
       "      <td>0.59</td>\n",
       "      <td>0.32</td>\n",
       "      <td>60.0</td>\n",
       "    </tr>\n",
       "    <tr>\n",
       "      <th>6</th>\n",
       "      <td>Primera, Spain</td>\n",
       "      <td>0.26</td>\n",
       "      <td>0.71</td>\n",
       "      <td>0.45</td>\n",
       "      <td>72.0</td>\n",
       "    </tr>\n",
       "    <tr>\n",
       "      <th>7</th>\n",
       "      <td>Segunda, Spain</td>\n",
       "      <td>0.20</td>\n",
       "      <td>0.72</td>\n",
       "      <td>0.52</td>\n",
       "      <td>68.0</td>\n",
       "    </tr>\n",
       "    <tr>\n",
       "      <th>8</th>\n",
       "      <td>Serie A, Italy</td>\n",
       "      <td>0.28</td>\n",
       "      <td>1.06</td>\n",
       "      <td>0.78</td>\n",
       "      <td>75.0</td>\n",
       "    </tr>\n",
       "    <tr>\n",
       "      <th>9</th>\n",
       "      <td>Serie B, Italy</td>\n",
       "      <td>0.23</td>\n",
       "      <td>0.89</td>\n",
       "      <td>0.66</td>\n",
       "      <td>68.0</td>\n",
       "    </tr>\n",
       "  </tbody>\n",
       "</table>\n",
       "</div>"
      ],
      "text/plain": [
       "               competition  average_goals_before_red  average_goals_after_red  \\\n",
       "0   1. Bundesliga, Germany                      0.30                     0.76   \n",
       "1   2. Bundesliga, Germany                      0.26                     0.96   \n",
       "2    Championship, England                      0.24                     0.75   \n",
       "3          Ligue 1, France                      0.25                     0.63   \n",
       "4          Ligue 2, France                      0.21                     0.55   \n",
       "5  Premier League, England                      0.27                     0.59   \n",
       "6           Primera, Spain                      0.26                     0.71   \n",
       "7           Segunda, Spain                      0.20                     0.72   \n",
       "8           Serie A, Italy                      0.28                     1.06   \n",
       "9           Serie B, Italy                      0.23                     0.89   \n",
       "\n",
       "   difference  Average Minute of Red Cards  \n",
       "0        0.46                         66.0  \n",
       "1        0.70                         68.0  \n",
       "2        0.51                         72.0  \n",
       "3        0.38                         74.0  \n",
       "4        0.34                         63.0  \n",
       "5        0.32                         60.0  \n",
       "6        0.45                         72.0  \n",
       "7        0.52                         68.0  \n",
       "8        0.78                         75.0  \n",
       "9        0.66                         68.0  "
      ]
     },
     "execution_count": 38,
     "metadata": {},
     "output_type": "execute_result"
    }
   ],
   "source": [
    "average_goals = average_goals.merge(average_minute, on='competition')\n",
    "average_goals"
   ]
  },
  {
   "cell_type": "markdown",
   "metadata": {},
   "source": [
    "## 3.d: Sanctioned Team vs Opponents"
   ]
  },
  {
   "cell_type": "code",
   "execution_count": 39,
   "metadata": {},
   "outputs": [],
   "source": [
    "# Create a new column 'red_card_team' to hold the team that got the red card\n",
    "df_red_cards['red_card_team'] = df_red_cards[df_red_cards['type'] == 'red_card']['side']\n",
    "\n",
    "# Forward fill the 'red_card_team' column to propagate the team that got the red card forward\n",
    "df_red_cards['red_card_team'] = df_red_cards.groupby('game_id')['red_card_team'].ffill()"
   ]
  },
  {
   "cell_type": "code",
   "execution_count": 40,
   "metadata": {},
   "outputs": [],
   "source": [
    "import pandas as pd\n",
    "import numpy as np\n",
    "\n",
    "# Assuming df_red_cards is your DataFrame\n",
    "\n",
    "# Function to calculate goals after red card\n",
    "def calculate_goals(group):\n",
    "    # Find the first instance of red_card_team that isn't NaN\n",
    "    red_card_team = group['red_card_team'].dropna().iloc[0]\n",
    "    \n",
    "    # Get the index of the first red card\n",
    "    first_red_card_index = group['red_card_team'].first_valid_index()\n",
    "    \n",
    "    # Calculate the goals scored after the red card by the sanctioned team\n",
    "    group['sanctioned_goals_after_red'] = group[(group.index > first_red_card_index) & (group['type'] == 'goal') & (group['side'] == red_card_team)]['type'].count()\n",
    "    \n",
    "    # Calculate the goals scored after the red card by the non sanctioned team\n",
    "    group['non_sanctioned_goals_after_red'] = group[(group.index > first_red_card_index) & (group['type'] == 'goal') & (group['side'] != red_card_team)]['type'].count()\n",
    "    \n",
    "    return group\n",
    "\n",
    "# Apply the function to each group\n",
    "df_red_cards = df_red_cards.groupby('game_id').apply(calculate_goals, include_groups=False)\n",
    "\n",
    "# Fill NaN values with 0\n",
    "df_red_cards[['sanctioned_goals_after_red', 'non_sanctioned_goals_after_red']] = df_red_cards[['sanctioned_goals_after_red', 'non_sanctioned_goals_after_red']].fillna(0)\n",
    "\n",
    "df_red_cards = df_red_cards.reset_index()\n",
    "df_red_cards = df_red_cards.drop('level_1', axis=1)"
   ]
  },
  {
   "cell_type": "code",
   "execution_count": 41,
   "metadata": {},
   "outputs": [
    {
     "name": "stdout",
     "output_type": "stream",
     "text": [
      "Average goals by sanctioned team after red card: 0.2632904308897594\n",
      "Average goals by opposite team after red card: 0.7400671516508114\n"
     ]
    }
   ],
   "source": [
    "# take first row to calculate only the goals once per game\n",
    "first_row_reds_ = df_red_cards.drop_duplicates('game_id')\n",
    "\n",
    "print(\"Average goals by sanctioned team after red card:\", first_row_reds_.sanctioned_goals_after_red.mean())\n",
    "print(\"Average goals by opposite team after red card:\", first_row_reds_.non_sanctioned_goals_after_red.mean())\n"
   ]
  },
  {
   "cell_type": "code",
   "execution_count": 42,
   "metadata": {},
   "outputs": [
    {
     "name": "stdout",
     "output_type": "stream",
     "text": [
      "Rate of goals per 10 minutes after red card (sanctioned team): 0.208\n",
      "Rate of goals per 10 minutes after red card (non-sanctioned team): 0.553\n"
     ]
    }
   ],
   "source": [
    "print(\"Rate of goals per 10 minutes after red card (sanctioned team):\",round((first_row_reds_.sanctioned_goals_after_red/ (91 - first_row_reds_.red_card_minute)).mean()*10, 3))\n",
    "print(\"Rate of goals per 10 minutes after red card (non-sanctioned team):\",round((first_row_reds_.non_sanctioned_goals_after_red/ (91 - first_row_reds_.red_card_minute)).mean()*10, 3))"
   ]
  },
  {
   "cell_type": "code",
   "execution_count": 43,
   "metadata": {},
   "outputs": [
    {
     "name": "stdout",
     "output_type": "stream",
     "text": [
      "                         Rate_sanctioned  Rate_non_sanctioned\n",
      "competition                                                  \n",
      "1. Bundesliga, Germany             0.117                0.638\n",
      "2. Bundesliga, Germany             0.212                0.752\n",
      "Championship, England              0.399                0.347\n",
      "Ligue 1, France                    0.123                0.510\n",
      "Ligue 2, France                    0.150                0.404\n",
      "Premier League, England            0.167                0.425\n",
      "Primera, Spain                     0.194                0.518\n",
      "Segunda, Spain                     0.159                0.560\n",
      "Serie A, Italy                     0.295                0.765\n",
      "Serie B, Italy                     0.260                0.630\n"
     ]
    },
    {
     "name": "stderr",
     "output_type": "stream",
     "text": [
      "/var/folders/m4/yvlz4y6d61zctf_c0kjjh05w0000gn/T/ipykernel_87721/1567312715.py:10: DeprecationWarning: DataFrameGroupBy.apply operated on the grouping columns. This behavior is deprecated, and in a future version of pandas the grouping columns will be excluded from the operation. Either pass `include_groups=False` to exclude the groupings or explicitly select the grouping columns after groupby to silence this warning.\n",
      "  rates = first_row_reds_.groupby('competition').apply(calculate_rates)\n"
     ]
    }
   ],
   "source": [
    "import pandas as pd\n",
    "\n",
    "# Function to calculate rates\n",
    "def calculate_rates(group):\n",
    "    rate_sanctioned = round((group['sanctioned_goals_after_red'] / (91 - group['red_card_minute'])).mean() * 10, 3)\n",
    "    rate_non_sanctioned = round((group['non_sanctioned_goals_after_red'] / (91 - group['red_card_minute'])).mean() * 10, 3)\n",
    "    return pd.Series({'Rate_sanctioned': rate_sanctioned, 'Rate_non_sanctioned': rate_non_sanctioned})\n",
    "\n",
    "# Apply the function to each group\n",
    "rates = first_row_reds_.groupby('competition').apply(calculate_rates)\n",
    "\n",
    "print(rates)\n"
   ]
  },
  {
   "cell_type": "code",
   "execution_count": 44,
   "metadata": {},
   "outputs": [
    {
     "name": "stdout",
     "output_type": "stream",
     "text": [
      "Number of unique game_id rows with more than one 'red_card': 489\n"
     ]
    }
   ],
   "source": [
    "# Group by game_id and count the occurrences of 'red_card' in each group\n",
    "red_card_counts = df[df['type'] == 'red_card'].groupby('game_id').size()\n",
    "\n",
    "# Count the number of unique game_id rows with more than one 'red_card'\n",
    "unique_game_ids_with_multiple_red_cards = (red_card_counts > 1).sum()\n",
    "\n",
    "print(\"Number of unique game_id rows with more than one 'red_card':\", unique_game_ids_with_multiple_red_cards)"
   ]
  },
  {
   "cell_type": "code",
   "execution_count": 45,
   "metadata": {},
   "outputs": [
    {
     "name": "stdout",
     "output_type": "stream",
     "text": [
      "Proportion of games with 2 or more red cards: 0.025344666735772778\n"
     ]
    }
   ],
   "source": [
    "# games with 2 or more red card\n",
    "print(\"Proportion of games with 2 or more red cards:\", unique_game_ids_with_multiple_red_cards/len(df_g))"
   ]
  },
  {
   "cell_type": "markdown",
   "metadata": {},
   "source": [
    "## 3.e: Goals shortly after red cards could be penalties (hence increased score)"
   ]
  },
  {
   "cell_type": "code",
   "execution_count": 46,
   "metadata": {},
   "outputs": [
    {
     "name": "stdout",
     "output_type": "stream",
     "text": [
      "Game IDs with 'goal' after 'red_card' within 3 minutes:\n",
      "[84, 97, 225, 232, 242, 330, 339, 389, 461, 472, 579, 653, 658, 664, 733, 756, 785, 831, 895, 915, 972, 1005, 1129, 1138, 1144, 1152, 1173, 1183, 1210, 1211, 1224, 1230, 1269, 1270, 1273, 1334, 1402, 1420, 1437, 1438, 1443, 1475, 1532, 1533, 1539, 1579, 1580, 1586, 1590, 1609, 1614, 1625, 1633, 1652, 1840, 1845, 1906, 1913, 1947, 1949, 1955, 1993, 2062, 2131, 2177, 2195, 2217, 2239, 2244, 2271, 2286, 2374, 2386, 2389, 2412, 2416, 2441, 2476, 2494, 2503, 2513, 2598, 2732, 2733, 2785, 2806, 2825, 2853, 2873, 2900, 2904, 2933, 3015, 3079, 3081, 3144, 3149, 3150, 3207, 3278, 3282, 3325, 3387, 3396, 3451, 3463, 3468, 3493, 3520, 3540, 3604, 3609, 3618, 3644, 3660, 3672, 3701, 3827, 3850, 3893, 3924, 3970, 3988, 4062, 4094, 4110, 4111, 4136, 4200, 4212, 4244, 4249, 4250, 4255, 4315, 4367, 4368, 4371, 4385, 4429, 4507, 4517, 4546, 4573, 4585, 4600, 4627, 4671, 4701, 4709, 4769, 4813, 4847, 4931, 4952, 4986, 4987, 5034, 5046, 5124, 5163, 5166, 5181, 5211, 5235, 5275, 5276, 5304, 5334, 5357, 5364, 5473, 5492, 5500, 5511, 5601, 5700, 5726, 5769, 5801, 5861, 5942, 5974, 5977, 5983, 6007, 6022, 6054, 6070, 6116, 6135, 6191, 6216, 6220, 6225, 6261, 6263, 6286, 6339, 6391, 6402, 6420, 6422, 6479, 6506, 6516, 6528, 6539, 6565, 6568, 6605, 6647, 6762, 6866, 6902, 6911, 6925, 6934, 6989, 7036, 7037, 7048, 7064, 7092, 7095, 7122, 7131, 7200, 7208, 7225, 7226, 7259, 7261, 7280, 7336, 7392, 7410, 7425, 7430, 7434, 7480, 7496, 7525, 7581, 7644, 7645, 7666, 7671, 7674, 7702, 7779, 7821, 7878, 7944, 7953, 8011, 8064, 8084, 8123, 8152, 8156, 8160, 8163, 8174, 8197, 8208, 8209, 8263, 8267, 8273, 8305, 8310, 8320, 8325, 8396, 8424, 8454, 8494, 8501, 8530, 8553, 8556, 8568, 8574, 8625, 8630, 8674, 8677, 8728, 8732, 8832, 8841, 8850, 8856, 8867, 8917, 8933, 8975, 8992, 9016, 9022, 9046, 9056, 9088, 9136, 9137, 9169, 9301, 9360, 9412, 9486, 9499, 9621, 9726, 9737, 9738, 9778, 9864, 10081, 10171, 10179, 10224, 10287, 10319, 10335, 10385, 10450, 10474, 10581, 10606, 10863, 10901, 10921, 10987, 11045, 11114, 11123, 11150, 11217, 11227, 11248, 11254, 11344, 11347, 11372, 11459, 11469, 11476, 11504, 11521, 11570, 11582, 11605, 11717, 11779, 11859, 11918, 11938, 12056, 12107, 12196, 12218, 12234, 12237, 12275, 12313, 12350, 12369, 12383, 12422, 12433, 12444, 12495, 12548, 12551, 12587, 12660, 12662, 12697, 12704, 12740, 12857, 12902, 12919, 13013, 13063, 13073, 13074, 13146, 13201, 13230, 13308, 13342, 13359, 13365, 13371, 13377, 13389, 13406, 13417, 13420, 13472, 13478, 13502, 13515, 13589, 13636, 13663, 13687, 13745, 13821, 13822, 13837, 13848, 13901, 13907, 13910, 13934, 13947, 14037, 14041, 14048, 14075, 14088, 14115, 14123, 14180, 14271, 14275, 14288, 14356, 14370, 14467, 14471, 14583, 14584, 14628, 14658, 14659, 14832, 14837, 14838, 14871, 14919, 14935, 14948, 14975, 15026, 15111, 15152, 15169, 15176, 15301, 15472, 15510, 15566, 15586, 15595, 15616, 15623, 15624, 15649, 15659, 15680, 15706, 15766, 15772, 15796, 15807, 15835, 15837, 15864, 15880, 15916, 15971, 15985, 16005, 16023, 16028, 16068, 16073, 16119, 16156, 16209, 16227, 16269, 16286, 16308, 16331, 16338, 16353, 16400, 16408, 16431, 16506, 16550, 16584, 16586, 16594, 16739, 16778, 16845, 16862, 16870, 16905, 16938, 16939, 16942, 17010, 17015, 17094, 17119, 17141, 17149, 17173, 17204, 17234, 17334, 17354, 17412, 17413, 17427, 17491, 17538, 17612, 17619, 17682, 17746, 17790, 17796, 17854, 17856, 17875, 18041, 18066, 18092, 18110, 18132, 18160, 18165, 18254, 18261, 18280, 18300, 18301, 18311, 18324, 18338, 18341, 18348, 18349, 18350, 18391, 18403, 18413, 18424, 18428, 18449, 18455, 18460, 18498, 18522, 18553, 18646, 18711, 18730, 18764, 18782, 18798, 18854, 18861, 18862, 18865, 18881, 18885, 18913, 19027, 19033, 19055, 19072, 19079, 19091, 19111, 19118, 19139, 19142, 19218, 19264, 19277, 19289, 19293]\n"
     ]
    }
   ],
   "source": [
    "# Sort again, see which games are featuring goals shortly after goals:\n",
    "df_red_cards = df_red_cards.sort_values(['game_id', 'minute'])\n",
    "\n",
    "# Define a function to check if a 'goal' occurred within 3 minutes after a 'red_card'\n",
    "def has_goal_soon_after_red_card(group):\n",
    "    red_cards = group[group['type'] == 'red_card']['minute']\n",
    "    goals_after_red_card = group[(group['type'] == 'goal') & group['minute'].isin(pd.concat([red_cards, red_cards + 1, red_cards + 2, red_cards + 3]))]\n",
    "    return len(goals_after_red_card) > 0\n",
    "\n",
    "# Apply the function to each group\n",
    "result = df_red_cards.groupby('game_id').apply(has_goal_soon_after_red_card,include_groups=False)\n",
    "\n",
    "# Filter only the game_ids where the condition is True\n",
    "game_ids_with_goal_shortly_after_red_card = result[result].index.tolist()\n",
    "\n",
    "print(\"Game IDs with 'goal' after 'red_card' within 3 minutes:\")\n",
    "print(game_ids_with_goal_shortly_after_red_card)"
   ]
  },
  {
   "cell_type": "code",
   "execution_count": 47,
   "metadata": {},
   "outputs": [
    {
     "name": "stdout",
     "output_type": "stream",
     "text": [
      "Number of times 'goal' occurred within 3 minutes after 'red_card' in each game:\n",
      "626\n"
     ]
    }
   ],
   "source": [
    "# Group by game_id\n",
    "grouped = df_red_cards.groupby('game_id')\n",
    "\n",
    "# Define a function to count the number of times a 'goal' occurred within 3 minutes after a 'red_card'\n",
    "def count_goal_shortly_after_red_card(group):\n",
    "    red_cards = group[group['type'] == 'red_card']['minute']\n",
    "    goals_after_red_card = group[(group['type'] == 'goal') & group['minute'].isin(pd.concat([red_cards, red_cards + 1, red_cards + 2, red_cards + 3]),)]\n",
    "    return len(goals_after_red_card)\n",
    "\n",
    "# Apply the function to each group\n",
    "goal_counts_shortly_after_red_card = grouped.apply(count_goal_shortly_after_red_card,include_groups=False)\n",
    "\n",
    "print(\"Number of times 'goal' occurred within 3 minutes after 'red_card' in each game:\")\n",
    "print(goal_counts_shortly_after_red_card.sum())"
   ]
  },
  {
   "cell_type": "code",
   "execution_count": 48,
   "metadata": {},
   "outputs": [
    {
     "name": "stdout",
     "output_type": "stream",
     "text": [
      "% of goals within 3 minutes of red cards:\n",
      "17.46\n"
     ]
    }
   ],
   "source": [
    "# how many goals after red cards were within 3 mins\n",
    "print(\"% of goals within 3 minutes of red cards:\")\n",
    "print(round((goal_counts_shortly_after_red_card.sum()/first_rows_reds.goals_after_first_red.sum())*100, 2))"
   ]
  },
  {
   "cell_type": "code",
   "execution_count": 49,
   "metadata": {},
   "outputs": [],
   "source": [
    "# Group by game_id\n",
    "grouped = df.groupby('game_id')\n",
    "\n",
    "# List to store minutes difference between red card and subsequent goals\n",
    "minutes_difference_list = []\n",
    "\n",
    "# Iterate over groups\n",
    "for name, group in grouped:\n",
    "    red_card_index = group[group['type'] == 'red_card'].index\n",
    "    if not red_card_index.empty:\n",
    "        red_card_minute = group.loc[red_card_index[0], 'minute']\n",
    "        goals_after_red_card = group[(group['type'] == 'goal') & (group['minute'] > red_card_minute)]\n",
    "        if not goals_after_red_card.empty:\n",
    "            minutes_difference = goals_after_red_card['minute'].min() - red_card_minute\n",
    "            minutes_difference_list.append(minutes_difference)\n",
    "\n",
    "# Convert list to DataFrame\n",
    "minutes_difference_df = pd.DataFrame({'minutes_difference': minutes_difference_list})\n"
   ]
  },
  {
   "cell_type": "code",
   "execution_count": 50,
   "metadata": {},
   "outputs": [
    {
     "data": {
      "image/png": "[encoded data removed]",
      "text/plain": [
       "<Figure size 640x480 with 1 Axes>"
      ]
     },
     "metadata": {},
     "output_type": "display_data"
    }
   ],
   "source": [
    "# Plot distribution graph\n",
    "ax = minutes_difference_df.hist(bins=84, edgecolor='black')\n",
    "ax[0][0].set_xlabel('Minutes Difference')\n",
    "ax[0][0].set_ylabel('Frequency')\n",
    "ax[0][0].set_title('Distribution of Goals Occurrences After Red Card')\n",
    "ax[0][0].set_xticks(range(0, 91, 10))\n",
    "plt.show()"
   ]
  },
  {
   "cell_type": "code",
   "execution_count": null,
   "metadata": {},
   "outputs": [],
   "source": []
  }
 ],
 "metadata": {
  "kernelspec": {
   "display_name": "new_venv",
   "language": "python",
   "name": "python3"
  },
  "language_info": {
   "codemirror_mode": {
    "name": "ipython",
    "version": 3
   },
   "file_extension": ".py",
   "mimetype": "text/x-python",
   "name": "python",
   "nbconvert_exporter": "python",
   "pygments_lexer": "ipython3",
   "version": "3.12.1"
  }
 },
 "nbformat": 4,
 "nbformat_minor": 2
}
